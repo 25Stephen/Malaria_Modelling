{
 "cells": [
  {
   "cell_type": "code",
   "execution_count": 1,
   "id": "f87a8cb2",
   "metadata": {},
   "outputs": [],
   "source": [
    "###### This is a simple model desinged to illustrate the transmission of the human population through the S-I-R compartments of the mosquito vector *\n"
    "from sympy import *\n",
    "import numpy as np\n",
    "from scipy.integrate import odeint\n",
    "import matplotlib.pyplot as plt\n"
   ]
  },
  {
   "cell_type": "code",
   "execution_count": 2,
   "id": "f64b3aa1",
   "metadata": {},
   "outputs": [],
   "source": [
    "# Assigning variables\n",
    "P = 30_832_019    ############ Total Population #########\n",
    "mui = 2382       ############ Number of birth in a day ################  \n",
    "theta = 7.7/10000   ############ death rate in a day ################### 7.7 per 10000 people\n",
    "beta = 0.2       ############ Transmission rate from Succesptible to Infectious\n",
    "gamma = 0.02     ############ Transmission rate from Infectious to recovery\n",
    "alpha = 0.001       ############ Number of death from the disease #################"
   ]
  },
  {
   "cell_type": "code",
   "execution_count": 7,
   "id": "ab4d7df0",
   "metadata": {},
   "outputs": [],
   "source": [
    "# The SIR model differential equations.\n",
    "def eqn(y, t, P, beta, gamma, alpha):\n",
    "    S, I, R = y\n",
    "    dSdt = mui - (beta * S * I / P) - theta*S\n",
    "    dIdt = beta * S * I / P - theta*I - alpha*I- gamma * I \n",
    "    dRdt = gamma * I - theta*R\n",
    "    return dSdt, dIdt, dRdt"
   ]
  },
  {
   "cell_type": "code",
   "execution_count": 1,
   "id": "08e55fdc",
   "metadata": {},
   "outputs": [
    {
     "ename": "NameError",
     "evalue": "name 'np' is not defined",
     "output_type": "error",
     "traceback": [
      "\u001b[1;31m---------------------------------------------------------------------------\u001b[0m",
      "\u001b[1;31mNameError\u001b[0m                                 Traceback (most recent call last)",
      "\u001b[1;32m<ipython-input-1-67e3a5c3750f>\u001b[0m in \u001b[0;36m<module>\u001b[1;34m\u001b[0m\n\u001b[0;32m      1\u001b[0m \u001b[0mI1\u001b[0m\u001b[1;33m,\u001b[0m \u001b[0mR1\u001b[0m\u001b[1;33m,\u001b[0m \u001b[1;33m=\u001b[0m \u001b[1;36m1\u001b[0m\u001b[1;33m,\u001b[0m \u001b[1;36m0\u001b[0m  \u001b[1;31m##############   Initial number of infected, recovered and dead individuals , I0, R0, D0.\u001b[0m\u001b[1;33m\u001b[0m\u001b[1;33m\u001b[0m\u001b[0m\n\u001b[1;32m----> 2\u001b[1;33m \u001b[0mt\u001b[0m \u001b[1;33m=\u001b[0m \u001b[0mnp\u001b[0m\u001b[1;33m.\u001b[0m\u001b[0mlinspace\u001b[0m\u001b[1;33m(\u001b[0m\u001b[1;36m0\u001b[0m\u001b[1;33m,\u001b[0m \u001b[1;36m365\u001b[0m\u001b[1;33m,\u001b[0m \u001b[1;36m365\u001b[0m\u001b[1;33m)\u001b[0m    \u001b[1;31m# A grid of time points (in days)\u001b[0m\u001b[1;33m\u001b[0m\u001b[1;33m\u001b[0m\u001b[0m\n\u001b[0m\u001b[0;32m      3\u001b[0m \u001b[0mS1\u001b[0m \u001b[1;33m=\u001b[0m \u001b[0mP\u001b[0m \u001b[1;33m-\u001b[0m \u001b[0mI1\u001b[0m \u001b[1;33m-\u001b[0m \u001b[0mR1\u001b[0m   \u001b[1;31m##############  Everyone else, S0, is susceptible to infection initially.\u001b[0m\u001b[1;33m\u001b[0m\u001b[1;33m\u001b[0m\u001b[0m\n\u001b[0;32m      4\u001b[0m \u001b[0my1\u001b[0m \u001b[1;33m=\u001b[0m \u001b[0mS1\u001b[0m\u001b[1;33m,\u001b[0m \u001b[0mI1\u001b[0m\u001b[1;33m,\u001b[0m \u001b[0mR1\u001b[0m      \u001b[1;31m############## Initial conditions vector\u001b[0m\u001b[1;33m\u001b[0m\u001b[1;33m\u001b[0m\u001b[0m\n\u001b[0;32m      5\u001b[0m \u001b[0mret\u001b[0m \u001b[1;33m=\u001b[0m \u001b[0modeint\u001b[0m\u001b[1;33m(\u001b[0m\u001b[0meqn\u001b[0m\u001b[1;33m,\u001b[0m \u001b[0my1\u001b[0m\u001b[1;33m,\u001b[0m \u001b[0mt\u001b[0m\u001b[1;33m,\u001b[0m \u001b[0margs\u001b[0m\u001b[1;33m=\u001b[0m\u001b[1;33m(\u001b[0m\u001b[0mP\u001b[0m\u001b[1;33m,\u001b[0m \u001b[0mbeta\u001b[0m\u001b[1;33m,\u001b[0m \u001b[0mgamma\u001b[0m\u001b[1;33m,\u001b[0m \u001b[0malpha\u001b[0m\u001b[1;33m)\u001b[0m\u001b[1;33m)\u001b[0m  \u001b[1;31m# Integrate the SIR equations over the time grid, t.\u001b[0m\u001b[1;33m\u001b[0m\u001b[1;33m\u001b[0m\u001b[0m\n",
      "\u001b[1;31mNameError\u001b[0m: name 'np' is not defined"
     ]
    }
   ],
   "source": [
    "I1, R1, = 1, 0  ##############   Initial number of infected, recovered and dead individuals , I0, R0, D0.\n",
    "t = np.linspace(0, 365, 365)    # A grid of time points (in days)\n",
    "S1 = P - I1 - R1   ##############  Everyone else, S0, is susceptible to infection initially.\n",
    "y1 = S1, I1, R1      ############## Initial conditions vector\n",
    "ret = odeint(eqn, y1, t, args=(P, beta, gamma, alpha))  # Integrate the SIR equations over the time grid, t.\n",
    "S, I, R = ret.T"
   ]
  },
  {
   "cell_type": "code",
   "execution_count": 2,
   "id": "32129664",
   "metadata": {
    "scrolled": true
   },
   "outputs": [
    {
     "ename": "NameError",
     "evalue": "name 'plt' is not defined",
     "output_type": "error",
     "traceback": [
      "\u001b[1;31m---------------------------------------------------------------------------\u001b[0m",
      "\u001b[1;31mNameError\u001b[0m                                 Traceback (most recent call last)",
      "\u001b[1;32m<ipython-input-2-bd9f08fa06d2>\u001b[0m in \u001b[0;36m<module>\u001b[1;34m\u001b[0m\n\u001b[0;32m      1\u001b[0m \u001b[1;31m##### Plotting the population curves\u001b[0m\u001b[1;33m\u001b[0m\u001b[1;33m\u001b[0m\u001b[1;33m\u001b[0m\u001b[0m\n\u001b[1;32m----> 2\u001b[1;33m \u001b[0mfig\u001b[0m \u001b[1;33m=\u001b[0m \u001b[0mplt\u001b[0m\u001b[1;33m.\u001b[0m\u001b[0mfigure\u001b[0m\u001b[1;33m(\u001b[0m\u001b[0mfigsize\u001b[0m\u001b[1;33m=\u001b[0m\u001b[1;33m(\u001b[0m\u001b[1;36m10\u001b[0m\u001b[1;33m,\u001b[0m\u001b[1;36m5\u001b[0m\u001b[1;33m)\u001b[0m\u001b[1;33m)\u001b[0m\u001b[1;33m\u001b[0m\u001b[1;33m\u001b[0m\u001b[0m\n\u001b[0m\u001b[0;32m      3\u001b[0m \u001b[0max\u001b[0m \u001b[1;33m=\u001b[0m \u001b[0mfig\u001b[0m\u001b[1;33m.\u001b[0m\u001b[0madd_subplot\u001b[0m\u001b[1;33m(\u001b[0m\u001b[1;36m111\u001b[0m\u001b[1;33m,\u001b[0m  \u001b[0maxisbelow\u001b[0m\u001b[1;33m=\u001b[0m\u001b[1;32mTrue\u001b[0m\u001b[1;33m)\u001b[0m\u001b[1;33m\u001b[0m\u001b[1;33m\u001b[0m\u001b[0m\n\u001b[0;32m      4\u001b[0m \u001b[0max\u001b[0m\u001b[1;33m.\u001b[0m\u001b[0mplot\u001b[0m\u001b[1;33m(\u001b[0m\u001b[0mt\u001b[0m\u001b[1;33m,\u001b[0m \u001b[0mS\u001b[0m\u001b[1;33m/\u001b[0m\u001b[1;36m1000000\u001b[0m\u001b[1;33m,\u001b[0m \u001b[0mlw\u001b[0m\u001b[1;33m=\u001b[0m\u001b[1;36m4\u001b[0m\u001b[1;33m,\u001b[0m \u001b[0mlabel\u001b[0m\u001b[1;33m=\u001b[0m\u001b[1;34m'Susceptible'\u001b[0m\u001b[1;33m,\u001b[0m \u001b[0mcolor\u001b[0m \u001b[1;33m=\u001b[0m \u001b[1;34m'k'\u001b[0m\u001b[1;33m)\u001b[0m\u001b[1;33m\u001b[0m\u001b[1;33m\u001b[0m\u001b[0m\n\u001b[0;32m      5\u001b[0m \u001b[0max\u001b[0m\u001b[1;33m.\u001b[0m\u001b[0mplot\u001b[0m\u001b[1;33m(\u001b[0m\u001b[0mt\u001b[0m\u001b[1;33m,\u001b[0m \u001b[0mI\u001b[0m\u001b[1;33m/\u001b[0m\u001b[1;36m1000000\u001b[0m\u001b[1;33m,\u001b[0m \u001b[0mlw\u001b[0m\u001b[1;33m=\u001b[0m\u001b[1;36m4\u001b[0m\u001b[1;33m,\u001b[0m \u001b[0mlabel\u001b[0m\u001b[1;33m=\u001b[0m\u001b[1;34m'Infected'\u001b[0m\u001b[1;33m,\u001b[0m \u001b[0mcolor\u001b[0m \u001b[1;33m=\u001b[0m \u001b[1;34m'red'\u001b[0m\u001b[1;33m)\u001b[0m\u001b[1;33m\u001b[0m\u001b[1;33m\u001b[0m\u001b[0m\n",
      "\u001b[1;31mNameError\u001b[0m: name 'plt' is not defined"
     ]
    }
   ],
   "source": [
    "##### Plotting the population curves\n",
    "fig = plt.figure(figsize=(10,5))\n",
    "ax = fig.add_subplot(111,  axisbelow=True)\n",
    "ax.plot(t, S/1000000, lw=4, label='Susceptible', color = 'k')\n",
    "ax.plot(t, I/1000000, lw=4, label='Infected', color = 'red')\n",
    "ax.plot(t, R/1000000, lw=4, label='Recovered', color = 'green')\n",
    "ax.set_xlabel('Time (Days)', fontsize = 12.5)\n",
    "ax.set_ylabel(\"Population / Millions\", fontsize = 15)\n",
    "legend = ax.legend()\n",
    "plt.xticks(fontweight = 'bold')\n",
    "plt.yticks(fontweight = 'bold')\n",
    "plt.title('A graph of population against time', fontweight='bold', fontsize = (15))\n",
    "plt.savefig('Population against time.PNG')\n",
    "plt.show()"
   ]
  },
  {
   "cell_type": "code",
   "execution_count": 14,
   "id": "84c301b5",
   "metadata": {},
   "outputs": [
    {
     "data": {
      "image/png": "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\n",
      "text/plain": [
       "<Figure size 576x288 with 1 Axes>"
      ]
     },
     "metadata": {
      "needs_background": "light"
     },
     "output_type": "display_data"
    }
   ],
   "source": [
    "from sympy import *\n",
    "import numpy as np\n",
    "from scipy.integrate import odeint\n",
    "import matplotlib.pyplot as plt\n",
    "# Assigning variables\n",
    "P = 30_832_019    ############ Total Population #########\n",
    "mui = 2382       ############ Number of birth in a day ################  \n",
    "theta = 7.7/10000   ############ death rate in a day ################### 7.7 per 10000 people\n",
    "beta = 0.2       ############ Transmission rate from Succesptible to Infectious\n",
    "gamma = 0.02     ############ Transmission rate from Infectious to recovery\n",
    "alpha = 0.001       ############ Number of death from the disease #################\n",
    "# The SIR model differential equations.\n",
    "def eqn(y, t, P, beta, gamma, alpha):\n",
    "    S, I, R = y\n",
    "    dSdt = mui - (beta * S * I / P) - theta*S\n",
    "    dIdt = beta * S * I / P - theta*I - alpha*I- gamma * I \n",
    "    dRdt = gamma * I - theta*R\n",
    "    return dSdt, dIdt, dRdt\n",
    "I1, R1, = 1, 0  ##############   Initial number of infected, recovered and dead individuals , I0, R0, D0.\n",
    "t = np.linspace(0, 365, 365)    # A grid of time points (in days)\n",
    "S1 = P - I1 - R1   ##############  Everyone else, S0, is susceptible to infection initially.\n",
    "y1 = S1, I1, R1      ############## Initial conditions vector\n",
    "sol = odeint(eqn, y1, t, args=(P, beta, gamma, alpha))  # Integrate the SIR equations over the time grid, t.\n",
    "S, I, R = sol.T\n",
    "##### Plotting the population curves\n",
    "fig = plt.figure(figsize=(8,4))\n",
    "ax = fig.add_subplot(111,  axisbelow=True)\n",
    "ax.plot(t, S/1000000, lw=4, label='Susceptible', color = 'k')\n",
    "ax.plot(t, I/1000000, lw=4, label='Infected', color = 'red')\n",
    "ax.plot(t, R/1000000, lw=4, label='Recovered', color = 'green')\n",
    "ax.set_xlabel('Time (Days)', fontsize = 12.5)\n",
    "ax.set_ylabel(\"Population / Million(s)\", fontsize = 14)\n",
    "legend = ax.legend()\n",
    "plt.xticks(fontweight = 'bold')\n",
    "plt.yticks(fontweight = 'bold')\n",
    "plt.title('A graph of populations against time', fontweight='bold', fontsize = (15))\n",
    "plt.savefig('Populations against time.JPEG')\n",
    "plt.show()"
   ]
  },
  {
   "cell_type": "code",
   "execution_count": null,
   "id": "b5161662",
   "metadata": {},
   "outputs": [],
   "source": []
  },
  {
   "cell_type": "code",
   "execution_count": null,
   "id": "1fc592f4",
   "metadata": {},
   "outputs": [],
   "source": []
  },
  {
   "cell_type": "code",
   "execution_count": null,
   "id": "30c33d3a",
   "metadata": {},
   "outputs": [],
   "source": []
  },
  {
   "cell_type": "code",
   "execution_count": null,
   "id": "9790d9f8",
   "metadata": {},
   "outputs": [],
   "source": []
  },
  {
   "cell_type": "code",
   "execution_count": null,
   "id": "fc21d395",
   "metadata": {},
   "outputs": [],
   "source": []
  },
  {
   "cell_type": "code",
   "execution_count": null,
   "id": "f4caa7dd",
   "metadata": {},
   "outputs": [],
   "source": []
  },
  {
   "cell_type": "code",
   "execution_count": null,
   "id": "047b88f0",
   "metadata": {},
   "outputs": [],
   "source": []
  },
  {
   "cell_type": "code",
   "execution_count": null,
   "id": "f5e09f5f",
   "metadata": {},
   "outputs": [],
   "source": []
  },
  {
   "cell_type": "code",
   "execution_count": null,
   "id": "14b97f8e",
   "metadata": {},
   "outputs": [],
   "source": []
  },
  {
   "cell_type": "code",
   "execution_count": null,
   "id": "382b55b3",
   "metadata": {},
   "outputs": [],
   "source": []
  },
  {
   "cell_type": "code",
   "execution_count": null,
   "id": "93a01db0",
   "metadata": {},
   "outputs": [],
   "source": []
  },
  {
   "cell_type": "code",
   "execution_count": null,
   "id": "e9bcde92",
   "metadata": {},
   "outputs": [],
   "source": []
  },
  {
   "cell_type": "code",
   "execution_count": null,
   "id": "0c1157d4",
   "metadata": {},
   "outputs": [],
   "source": []
  },
  {
   "cell_type": "code",
   "execution_count": null,
   "id": "56a2a250",
   "metadata": {},
   "outputs": [],
   "source": []
  },
  {
   "cell_type": "code",
   "execution_count": null,
   "id": "0783262b",
   "metadata": {},
   "outputs": [],
   "source": []
  },
  {
   "cell_type": "code",
   "execution_count": null,
   "id": "5be60073",
   "metadata": {},
   "outputs": [],
   "source": []
  },
  {
   "cell_type": "code",
   "execution_count": null,
   "id": "01953567",
   "metadata": {},
   "outputs": [],
   "source": []
  },
  {
   "cell_type": "code",
   "execution_count": null,
   "id": "40fad2f9",
   "metadata": {},
   "outputs": [],
   "source": []
  },
  {
   "cell_type": "code",
   "execution_count": null,
   "id": "de8f002a",
   "metadata": {},
   "outputs": [],
   "source": []
  },
  {
   "cell_type": "code",
   "execution_count": null,
   "id": "5de865d5",
   "metadata": {},
   "outputs": [],
   "source": []
  },
  {
   "cell_type": "code",
   "execution_count": null,
   "id": "fae2f04b",
   "metadata": {},
   "outputs": [],
   "source": []
  },
  {
   "cell_type": "code",
   "execution_count": null,
   "id": "b08ac1ac",
   "metadata": {},
   "outputs": [],
   "source": []
  },
  {
   "cell_type": "code",
   "execution_count": null,
   "id": "272b0d2c",
   "metadata": {},
   "outputs": [],
   "source": []
  },
  {
   "cell_type": "code",
   "execution_count": null,
   "id": "9a718e6d",
   "metadata": {},
   "outputs": [],
   "source": []
  },
  {
   "cell_type": "code",
   "execution_count": null,
   "id": "1f152369",
   "metadata": {},
   "outputs": [],
   "source": []
  },
  {
   "cell_type": "code",
   "execution_count": null,
   "id": "9037cfb7",
   "metadata": {},
   "outputs": [],
   "source": []
  },
  {
   "cell_type": "code",
   "execution_count": null,
   "id": "75e9148f",
   "metadata": {},
   "outputs": [],
   "source": []
  },
  {
   "cell_type": "code",
   "execution_count": null,
   "id": "e1b19d56",
   "metadata": {},
   "outputs": [],
   "source": [
    "#### Importing linraries needed\n",
    "from sympy import *\n",
    "import numpy as np\n",
    "from scipy.integrate import odeint\n",
    "import matplotlib.pyplot as plt\n",
    "\n",
    "\n",
    "#Constructing a Function to compute the SIR equations.\n",
    "\n",
    "def deriv(eqn, t, P, beta, gamma, alpha):\n",
    "    S, I, R = eqn\n",
    "    dSdt = mui - (beta * S * I / T) - theta*S\n",
    "    dIdt = beta * S * I / T - theta*I - alpha*I- gamma * I \n",
    "    dRdt = gamma * I - theta*R\n",
    "    return dSdt, dIdt, dRdt\n",
    "\n",
    "############# variables\n",
    "\n",
    "T = 30_832_019    ############ Total Population ######### from ghstatistics\n",
    "mui = 2400       ############ Number of birth in a day ################  estimated 2400 children are born in a day in Ghana\n",
    "theta = 7.7/10000   ############ death rate in a day ################### \n",
    "beta = 0.3       ############ Transmission rate from Succesptible to Infectious\n",
    "gamma = 0.0231     ############ Transmission rate from Infectious to recovery\n",
    "alpha = 0.0221       ############ rate of death from the disease #################\n",
    "\n",
    "i, r = 10000000, 430000    ##############   Initial number of infected and recovered individuals\n",
    "time = np.linspace(0, 365, 365)    # A grid of time points (in days)\n",
    "s = P - i - r    ##############  Computing for the susceotible population\n",
    "eqn = s, i, r      ############## Initial conditions vector\n",
    "ret = odeint(deriv, eqn, time, args=(T, beta, gamma, alpha))  # Integrate the SIR equations over the time grid, t.\n",
    "\n",
    "S, I, R = ret.T\n",
    "fig = plt.figure(figsize=(9,5))\n",
    "\n",
    "ax = fig.add_subplot(111)\n",
    "ax.plot(t, S/1000000,label='Susceptible')\n",
    "ax.plot(t, I/1000000, label='Infected')\n",
    "ax.plot(t, R/1000000, label='Recovered')\n",
    "\n",
    "ax.set_xlabel('Time / Days')\n",
    "ax.set_ylabel(\"Population / M\")\n",
    "legend = ax.legend()\n",
    "# plt.savefig('graph.PNG')\n",
    "plt.show()\n"
   ]
  },
  {
   "cell_type": "code",
   "execution_count": null,
   "id": "78528f64",
   "metadata": {},
   "outputs": [],
   "source": []
  }
 ],
 "metadata": {
  "kernelspec": {
   "display_name": "Python 3",
   "language": "python",
   "name": "python3"
  },
  "language_info": {
   "codemirror_mode": {
    "name": "ipython",
    "version": 3
   },
   "file_extension": ".py",
   "mimetype": "text/x-python",
   "name": "python",
   "nbconvert_exporter": "python",
   "pygments_lexer": "ipython3",
   "version": "3.8.8"
  }
 },
 "nbformat": 4,
 "nbformat_minor": 5
}
